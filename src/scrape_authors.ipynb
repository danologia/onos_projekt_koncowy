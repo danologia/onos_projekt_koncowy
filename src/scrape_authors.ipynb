{
 "cells": [
  {
   "cell_type": "code",
   "execution_count": 9,
   "metadata": {
    "collapsed": true,
    "pycharm": {
     "is_executing": false
    }
   },
   "outputs": [],
   "source": [
    "from selenium import webdriver\n",
    "import pandas as pd\n",
    "from selenium.webdriver.firefox.options import Options\n",
    "from selenium.webdriver.common.by import By\n",
    "from selenium.webdriver.support.ui import WebDriverWait\n",
    "from selenium.webdriver.support import expected_conditions as EC\n",
    "from selenium.webdriver.support.ui import Select\n",
    "import json\n",
    "from tqdm import tqdm\n",
    "import sys\n",
    "import os\n",
    "import time\n",
    "import re\n",
    "from src.settings import NODES_DIR\n",
    "\n",
    "UNKNOWN = 'Nieznane'"
   ]
  },
  {
   "cell_type": "code",
   "execution_count": 10,
   "outputs": [],
   "source": [
    "nodes = pd.read_csv(NODES_DIR)\n",
    "authors_data = zip(nodes['id'].to_list(), nodes['label'].to_list())\n",
    "options = Options()\n",
    "options.headless = False\n",
    "driver = webdriver.Firefox(\"./\", options=options)\n",
    "# driver.get(f\"https://dona.pwr.edu.pl/szukaj/default.aspx?nrewid=428140\")\n",
    "driver.get(f\"https://dona.pwr.edu.pl/szukaj/default.aspx?nrewid=903381\")\n",
    "\n",
    "wait = WebDriverWait(driver, 20)\n",
    "entry = {}"
   ],
   "metadata": {
    "collapsed": false,
    "pycharm": {
     "name": "#%%\n",
     "is_executing": false
    }
   }
  },
  {
   "cell_type": "code",
   "execution_count": 11,
   "outputs": [],
   "source": [
    "wait.until(EC.presence_of_element_located((By.CSS_SELECTOR, \"#RadDock1_info_autora_C_RadLabel_pytanie1\")))\n",
    "author_info = driver.find_element_by_css_selector(\"#RadDock1_info_autora_C_RadLabel_pytanie1\").text\n",
    "data = author_info.split(\"\\n\")\n",
    "\n",
    "department_info = data[0]\n",
    "department_tokens = department_info.rsplit(', ', maxsplit=1)\n",
    "if len(department_tokens) > 1:\n",
    "    department = department_tokens[1].strip(']')\n",
    "else:\n",
    "    department = UNKNOWN"
   ],
   "metadata": {
    "collapsed": false,
    "pycharm": {
     "name": "#%%\n",
     "is_executing": false
    }
   }
  },
  {
   "cell_type": "code",
   "execution_count": 12,
   "outputs": [],
   "source": [
    "if len(data) > 1:\n",
    "    orcid_data = data[1]\n",
    "    match = re.search(\"ORCID:\\s*(.+)\\s*\", orcid_data)\n",
    "    if match:\n",
    "        orcid = match.group(1)\n",
    "    else:\n",
    "        orcid = UNKNOWN\n",
    "else:\n",
    "    orcid = UNKNOWN"
   ],
   "metadata": {
    "collapsed": false,
    "pycharm": {
     "name": "#%%\n",
     "is_executing": false
    }
   }
  },
  {
   "cell_type": "code",
   "execution_count": 13,
   "outputs": [],
   "source": [
    "if len(data) > 2:\n",
    "    disciplines = data[2]\n",
    "    match = re.search(\"dyscypliny:\\s*(.+)\\s*\", disciplines)\n",
    "    if match:\n",
    "        disciplines = match.group(1).split(', ')\n",
    "    else:\n",
    "        disciplines = []\n",
    "else:\n",
    "    disciplines = []"
   ],
   "metadata": {
    "collapsed": false,
    "pycharm": {
     "name": "#%%\n",
     "is_executing": false
    }
   }
  },
  {
   "cell_type": "code",
   "execution_count": 14,
   "outputs": [],
   "source": [
    "wait.until(EC.presence_of_element_located((By.CSS_SELECTOR, \"#RadTabStrip_dane_wyszukane\")))\n",
    "button_row = driver.find_element_by_css_selector(\"#RadTabStrip_dane_wyszukane\").text.split('\\n')\n",
    "publications_number = '0'\n",
    "citations = '0'\n",
    "supervisorships = '0'\n",
    "for button in button_row:\n",
    "    match = re.match(r\"(.+):\\s*(.+)\", button)\n",
    "    if match:\n",
    "        name = match.group(1)\n",
    "        value = match.group(2)\n",
    "        if name == 'Prace':\n",
    "            publications_number = value.strip()\n",
    "        elif name == 'Promotorstwa':\n",
    "            supervisorships = value.strip()\n",
    "        elif name == 'Cytowania':\n",
    "            citations = value.strip()"
   ],
   "metadata": {
    "collapsed": false,
    "pycharm": {
     "name": "#%%\n",
     "is_executing": false
    }
   }
  },
  {
   "cell_type": "code",
   "execution_count": 15,
   "outputs": [],
   "source": [
    "entry = {\n",
    "    'department': department,\n",
    "    'orcid': orcid,\n",
    "    'disciplines': disciplines,\n",
    "    'publications': publications_number,\n",
    "    'citations': citations,\n",
    "    'supervisorships': supervisorships\n",
    "}"
   ],
   "metadata": {
    "collapsed": false,
    "pycharm": {
     "name": "#%%\n",
     "is_executing": false
    }
   }
  }
 ],
 "metadata": {
  "kernelspec": {
   "display_name": "Python 3",
   "language": "python",
   "name": "python3"
  },
  "language_info": {
   "codemirror_mode": {
    "name": "ipython",
    "version": 2
   },
   "file_extension": ".py",
   "mimetype": "text/x-python",
   "name": "python",
   "nbconvert_exporter": "python",
   "pygments_lexer": "ipython2",
   "version": "2.7.6"
  },
  "pycharm": {
   "stem_cell": {
    "cell_type": "raw",
    "source": [],
    "metadata": {
     "collapsed": false
    }
   }
  }
 },
 "nbformat": 4,
 "nbformat_minor": 0
}