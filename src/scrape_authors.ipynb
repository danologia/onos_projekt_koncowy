{
 "cells": [
  {
   "cell_type": "code",
   "execution_count": 1,
   "metadata": {
    "collapsed": true,
    "pycharm": {
     "is_executing": false
    }
   },
   "outputs": [],
   "source": [
    "from selenium import webdriver\n",
    "import pandas as pd\n",
    "from selenium.webdriver.firefox.options import Options\n",
    "from selenium.webdriver.common.by import By\n",
    "from selenium.webdriver.support.ui import WebDriverWait\n",
    "from selenium.webdriver.support import expected_conditions as EC\n",
    "from selenium.webdriver.support.ui import Select\n",
    "import json\n",
    "from tqdm import tqdm\n",
    "import sys\n",
    "import os\n",
    "import time\n",
    "import re\n",
    "from src.settings import NODES_DIR\n",
    "\n",
    "UNKNOWN = 'Nieznane'\n",
    "LOGIN = 'a'\n",
    "PASSWORD = 'b'"
   ]
  },
  {
   "cell_type": "code",
   "execution_count": 2,
   "outputs": [
    {
     "data": {
      "text/plain": "<selenium.webdriver.firefox.webelement.FirefoxWebElement (session=\"6f21e52a-a0f7-4f75-8da6-037c165ca216\", element=\"42bffe49-45e5-4abf-9ba5-663bd128c2a6\")>"
     },
     "metadata": {},
     "output_type": "execute_result",
     "execution_count": 2
    }
   ],
   "source": [
    "nodes = pd.read_csv(NODES_DIR)\n",
    "authors_data = zip(nodes['id'].to_list(), nodes['label'].to_list())\n",
    "options = Options()\n",
    "options.headless = False\n",
    "driver = webdriver.Firefox(\"./\", options=options)\n",
    "# driver.get(f\"https://dona.pwr.edu.pl/szukaj/default.aspx?nrewid=428140\")\n",
    "\n",
    "wait = WebDriverWait(driver, 20)\n",
    "entry = {}\n",
    "options = Options()\n",
    "\n",
    "\n",
    "all_entries = []\n",
    "driver.get('https://dona.pwr.edu.pl/szukaj/')\n",
    "wait.until(EC.presence_of_element_located((By.CSS_SELECTOR, \"#RadButton_login\")))\n",
    "driver.find_element_by_css_selector(\"#RadButton_login\").click()\n",
    "\n",
    "wait.until(EC.presence_of_element_located((By.CSS_SELECTOR, \"#RadTextBox_uzytkownik\")))\n",
    "wait.until(EC.presence_of_element_located((By.CSS_SELECTOR, \"#RadTextBox_haslo\")))\n",
    "driver.find_element_by_css_selector(\"#RadTextBox_uzytkownik\").send_keys(LOGIN)\n",
    "driver.find_element_by_css_selector(\"#RadTextBox_haslo\").send_keys(PASSWORD)\n",
    "wait.until(EC.presence_of_element_located((By.CSS_SELECTOR, \"#RadButton_zaloguj\")))\n",
    "driver.find_element_by_css_selector(\"#RadButton_zaloguj\").click()\n",
    "wait.until(EC.presence_of_element_located((By.CSS_SELECTOR, \"#RadDock_formularze_C_RadSearchBox1_Input\")))"
   ],
   "metadata": {
    "collapsed": false,
    "pycharm": {
     "name": "#%%\n",
     "is_executing": false
    }
   }
  },
  {
   "cell_type": "code",
   "execution_count": 3,
   "outputs": [],
   "source": [
    "driver.get(f\"https://dona.pwr.edu.pl/szukaj/default.aspx?nrewid=428140\")\n",
    "wait.until(EC.presence_of_element_located((By.CSS_SELECTOR, \"#RadDock1_info_autora_C_RadLabel_pytanie1\")))\n",
    "author_info = driver.find_element_by_css_selector(\"#RadDock1_info_autora_C_RadLabel_pytanie1\").text\n",
    "data = author_info.split(\"\\n\")\n",
    "\n",
    "department_info = data[0]\n",
    "department_tokens = department_info.rsplit(', ', maxsplit=1)\n",
    "if len(department_tokens) > 1:\n",
    "    department = department_tokens[1].strip(']')\n",
    "else:\n",
    "    department = UNKNOWN"
   ],
   "metadata": {
    "collapsed": false,
    "pycharm": {
     "name": "#%%\n",
     "is_executing": false
    }
   }
  },
  {
   "cell_type": "code",
   "execution_count": 4,
   "outputs": [],
   "source": [
    "if len(data) > 1:\n",
    "    orcid_data = data[1]\n",
    "    match = re.search(\"ORCID:\\s*(.+)\\s*\", orcid_data)\n",
    "    if match:\n",
    "        orcid = match.group(1)\n",
    "    else:\n",
    "        orcid = UNKNOWN\n",
    "else:\n",
    "    orcid = UNKNOWN"
   ],
   "metadata": {
    "collapsed": false,
    "pycharm": {
     "name": "#%%\n",
     "is_executing": false
    }
   }
  },
  {
   "cell_type": "code",
   "execution_count": 5,
   "outputs": [],
   "source": [
    "if len(data) > 2:\n",
    "    disciplines = data[2]\n",
    "    match = re.search(\"dyscypliny:\\s*(.+)\\s*\", disciplines)\n",
    "    if match:\n",
    "        disciplines = match.group(1).split(', ')\n",
    "    else:\n",
    "        disciplines = []\n",
    "else:\n",
    "    disciplines = []"
   ],
   "metadata": {
    "collapsed": false,
    "pycharm": {
     "name": "#%%\n",
     "is_executing": false
    }
   }
  },
  {
   "cell_type": "code",
   "execution_count": 6,
   "outputs": [],
   "source": [
    "wait.until(EC.presence_of_element_located((By.CSS_SELECTOR, \"#RadDock1_info_autora_C_RadLabel_liczba_prac\")))\n",
    "work_and_impact_factor_data = driver.find_element_by_css_selector(\"#RadDock1_info_autora_C_RadLabel_liczba_prac\").text\n",
    "tokens = work_and_impact_factor_data.split('\\n')\n",
    "if len(tokens) > 3:\n",
    "    impact_factor_line = tokens[3]\n",
    "    impact_factor = impact_factor_line.split(':')[1].strip()\n",
    "else:\n",
    "    impact_factor = 0\n",
    "    "
   ],
   "metadata": {
    "collapsed": false,
    "pycharm": {
     "name": "#%%\n",
     "is_executing": false
    }
   }
  },
  {
   "cell_type": "code",
   "execution_count": 7,
   "outputs": [],
   "source": [
    "wait.until(EC.presence_of_element_located((By.CSS_SELECTOR, \"#RadTabStrip_dane_wyszukane\")))\n",
    "button_row = driver.find_element_by_css_selector(\"#RadTabStrip_dane_wyszukane\").text.split('\\n')\n",
    "publications_number = '0'\n",
    "citations = '0'\n",
    "supervisorships = '0'\n",
    "for button in button_row:\n",
    "    match = re.match(r\"(.+):\\s*(.+)\", button)\n",
    "    if match:\n",
    "        name = match.group(1)\n",
    "        value = match.group(2)\n",
    "        if name == 'Prace':\n",
    "            publications_number = value.strip()\n",
    "        elif name == 'Promotorstwa':\n",
    "            supervisorships = value.strip()\n",
    "        elif name == 'Cytowania':\n",
    "            citations = value.strip()"
   ],
   "metadata": {
    "collapsed": false,
    "pycharm": {
     "name": "#%%\n",
     "is_executing": false
    }
   }
  },
  {
   "cell_type": "code",
   "execution_count": 8,
   "outputs": [],
   "source": [
    "entry = {\n",
    "    'department': department,\n",
    "    'orcid': orcid,\n",
    "    'disciplines': disciplines,\n",
    "    'publications': publications_number,\n",
    "    'citations': citations,\n",
    "    'impact_factor': impact_factor,\n",
    "    'supervisorships': supervisorships\n",
    "}"
   ],
   "metadata": {
    "collapsed": false,
    "pycharm": {
     "name": "#%%\n",
     "is_executing": false
    }
   }
  },
  {
   "cell_type": "code",
   "execution_count": 8,
   "outputs": [],
   "source": [
    "\n"
   ],
   "metadata": {
    "collapsed": false,
    "pycharm": {
     "name": "#%%\n",
     "is_executing": false
    }
   }
  }
 ],
 "metadata": {
  "kernelspec": {
   "display_name": "Python 3",
   "language": "python",
   "name": "python3"
  },
  "language_info": {
   "codemirror_mode": {
    "name": "ipython",
    "version": 2
   },
   "file_extension": ".py",
   "mimetype": "text/x-python",
   "name": "python",
   "nbconvert_exporter": "python",
   "pygments_lexer": "ipython2",
   "version": "2.7.6"
  },
  "pycharm": {
   "stem_cell": {
    "cell_type": "raw",
    "source": [],
    "metadata": {
     "collapsed": false
    }
   }
  }
 },
 "nbformat": 4,
 "nbformat_minor": 0
}